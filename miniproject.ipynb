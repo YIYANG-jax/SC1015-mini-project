{
 "cells": [
  {
   "cell_type": "markdown",
   "id": "40af2eab-b0a2-43bd-97f8-e37bb89e4f99",
   "metadata": {},
   "source": [
    "# SC1015 MINI PROJECT\n",
    "## GROUP 3\n",
    "#### Members: Lim Yi Yang (YLIM215), Chong Xin Yi (XCHONG010)\n",
    "---"
   ]
  },
  {
   "cell_type": "markdown",
   "id": "8b6bcd05-fc0d-48ba-9b64-24b1753fa213",
   "metadata": {},
   "source": [
    "# Heart Attack Risk Prediction in Indonesian Adults\n",
    "---"
   ]
  },
  {
   "cell_type": "markdown",
   "id": "3e6cec99-dbbe-4f24-b461-62bc101f7454",
   "metadata": {},
   "source": [
    "## 1. Problem Definition\n",
    "### Objective: To identify which lifestyle and clinical risk factors best predict heart attacks among adults in Indonesia.\n",
    "Problem Statement: The rising prevalence of heart attacks necessitates a deeper understanding of the key risk factors contributing to heart disease. This study aims to identify and evaluate the most significant lifestyle and clinical risk factors associated with heart attacks in Indonesia, using machine learning models. By pinpointing high-risk factors such as cholesterol levels, hypertension, and diabetes, this research seeks to provide actionable insights for improving heart health management and prevention strategies.\n",
    "\n",
    "Motivation: Identifying critical risk factors can significantly enhance preventive healthcare measures, focus healthcare sources more effectively, ultimately improving public health outcomes in Indonesia. These insights can serve as a reference to better health outcomes globally.\n",
    "\n",
    "Research Questions:\n",
    "- Which lifestyle and clinical risk factors are most strongly correlated with heart attacks?\n",
    "- Can we develop a reliable predictive model for heart attack occurrence?\n",
    "- What actionable insights can be derived from the analysis to improve heart disease prevention strategies?\n",
    "\n",
    "---\n"
   ]
  },
  {
   "cell_type": "markdown",
   "id": "fc3de463-a9f4-4c7c-8a65-05dffef743e7",
   "metadata": {},
   "source": [
    "## 2. Data Preparation & Cleaning\n",
    "\n",
    "Source of dataset: Kaggle: Heart Attack Prediction in Indonesia *by Ankush Panday* \\\r\n",
    " (https://www.kaggle.com/datasets/ankushpanday2/heart-attack-prediction-in-indonesia?resource=download)\n",
    "\n"
   ]
  },
  {
   "cell_type": "markdown",
   "id": "673e1905-a602-4fa3-aff5-9297f09cd6e3",
   "metadata": {},
   "source": [
    "🔍 Variable Definitions (Full Description)\n",
    "\n",
    "Demographics\n",
    "age (int): Age of the individual (25-90 years)\n",
    "gender (str): Gender of the individual (Male, Female)\n",
    "region (str): Living area (Urban, Rural)\n",
    "income_level (str): Socioeconomic status (Low, Middle, High)\n",
    "Clinical Risk Factors\n",
    "hypertension (int): High blood pressure (1 = Yes, 0 = No)\n",
    "diabetes (int): Diagnosed diabetes (1 = Yes, 0 = No)\n",
    "cholesterol_level (int): Total cholesterol level (mg/dL)\n",
    "obesity (int): BMI > 30 (1 = Yes, 0 = No)\n",
    "waist_circumference (int): Waist circumference in cm\n",
    "family_history (int): Family history of heart disease (1 = Yes, 0 = No)\n",
    "Lifestyle & Behavioral Factors\n",
    "smoking_status (str): Smoking habit (Never, Past, Current)\n",
    "alcohol_consumption (str): Alcohol intake (None, Moderate, High)\n",
    "physical_activity (str): Physical activity level (Low, Moderate, High)\n",
    "dietary_habits (str): Diet quality (Healthy, Unhealthy)\n",
    "Environmental & Social Factors\n",
    "air_pollution_exposure (str): Pollution exposure (Low, Moderate, High)\n",
    "stress_level (str): Stress level (Low, Moderate, High)\n",
    "sleep_hours (float): Average sleep hours per night (3-9 hours)\n",
    "Medical Screening & Health System Factors\n",
    "blood_pressure_systolic (int): Systolic BP (mmHg)\n",
    "blood_pressure_diastolic (int): Diastolic BP (mmHg)\n",
    "fasting_blood_sugar (int): Blood sugar level (mg/dL)\n",
    "cholesterol_hdl (int): HDL cholesterol level (mg/dL)\n",
    "cholesterol_ldl (int): LDL cholesterol level (mg/dL)\n",
    "triglycerides (int): Triglyceride level (mg/dL)\n",
    "EKG_results (str): Electrocardiogram result (Normal, Abnormal)\n",
    "previous_heart_disease (int): Prior heart disease (1 = Yes, 0 = No)\n",
    "medication_usage (int): Currently taking heart-related medications (1 = Yes, 0 = No)\n",
    "participated_in_free_screening (int): Attended Indonesia’s free health screening program (1 = Yes, 0 = No)\n",
    "Target Variable\n",
    "heart_attack (int): Heart attack occurrence (1 = Yes, 0 = No)"
   ]
  },
  {
   "cell_type": "code",
   "execution_count": 18,
   "id": "b23a1378-a3cc-4c85-9c87-20556f48e31b",
   "metadata": {},
   "outputs": [
    {
     "ename": "ModuleNotFoundError",
     "evalue": "No module named 'numpy'",
     "output_type": "error",
     "traceback": [
      "\u001b[31m---------------------------------------------------------------------------\u001b[39m",
      "\u001b[31mModuleNotFoundError\u001b[39m                       Traceback (most recent call last)",
      "\u001b[36mCell\u001b[39m\u001b[36m \u001b[39m\u001b[32mIn[18]\u001b[39m\u001b[32m, line 2\u001b[39m\n\u001b[32m      1\u001b[39m \u001b[38;5;66;03m# Importing Essential Libraries\u001b[39;00m\n\u001b[32m----> \u001b[39m\u001b[32m2\u001b[39m \u001b[38;5;28;01mimport\u001b[39;00m\u001b[38;5;250m \u001b[39m\u001b[34;01mnumpy\u001b[39;00m\u001b[38;5;250m \u001b[39m\u001b[38;5;28;01mas\u001b[39;00m\u001b[38;5;250m \u001b[39m\u001b[34;01mnp\u001b[39;00m\n\u001b[32m      3\u001b[39m \u001b[38;5;28;01mimport\u001b[39;00m\u001b[38;5;250m \u001b[39m\u001b[34;01mpandas\u001b[39;00m\u001b[38;5;250m \u001b[39m\u001b[38;5;28;01mas\u001b[39;00m\u001b[38;5;250m \u001b[39m\u001b[34;01mpd\u001b[39;00m\n\u001b[32m      4\u001b[39m \u001b[38;5;28;01mimport\u001b[39;00m\u001b[38;5;250m \u001b[39m\u001b[34;01mseaborn\u001b[39;00m\u001b[38;5;250m \u001b[39m\u001b[38;5;28;01mas\u001b[39;00m\u001b[38;5;250m \u001b[39m\u001b[34;01msns\u001b[39;00m\n",
      "\u001b[31mModuleNotFoundError\u001b[39m: No module named 'numpy'"
     ]
    }
   ],
   "source": [
    "# Importing Essential Libraries\n",
    "import numpy as np\n",
    "import pandas as pd\n",
    "import seaborn as sns\n",
    "import matplotlib.pyplot as plt\n",
    "sns.set()"
   ]
  },
  {
   "cell_type": "code",
   "execution_count": null,
   "id": "c3babe3c-b566-434a-8138-983ad1e411e7",
   "metadata": {},
   "outputs": [],
   "source": [
    "# Load the dataset \n",
    "data = pd.read_csv('heart_attack_prediction_indonesia.csv')\n",
    "data.head()\n"
   ]
  },
  {
   "cell_type": "markdown",
   "id": "dc40bd7f-14ef-4774-b2d0-9d3773d0f2c4",
   "metadata": {},
   "source": [
    "### Data Overview"
   ]
  },
  {
   "cell_type": "code",
   "execution_count": null,
   "id": "85c9d9ea-80b2-420b-8b37-b18269bb5369",
   "metadata": {},
   "outputs": [],
   "source": [
    "print(data.info())"
   ]
  },
  {
   "cell_type": "markdown",
   "id": "61b774a5-9f74-4342-b138-aba956bc91d9",
   "metadata": {},
   "source": [
    "String 'None' under 'alcohol_consumption' mistaken as missing value.\n"
   ]
  },
  {
   "cell_type": "markdown",
   "id": "de82fdc4-36f3-4193-b782-aa9b098aa84b",
   "metadata": {},
   "source": [
    "Hence, when reading the CSV, prevent pandas from treating 'None' as NaN. \\\n",
    "na_values = [] tell pandas: \"Don't treat any string as missing.\"\n",
    "keep_default_na = False: disables the default behaviour that turns 'None' into NaN\n"
   ]
  },
  {
   "cell_type": "code",
   "execution_count": null,
   "id": "a4903f45-5421-4736-a053-234b2b272fb5",
   "metadata": {},
   "outputs": [],
   "source": [
    "data = pd.read_csv('heart_attack_prediction_indonesia.csv', na_values=[], keep_default_na=False)\n",
    "print(data.info())"
   ]
  },
  {
   "cell_type": "markdown",
   "id": "a7b7e8eb-0094-4f41-9f81-addec561a869",
   "metadata": {},
   "source": [
    "Now there's no missing value."
   ]
  },
  {
   "cell_type": "raw",
   "id": "747ce902-6ca7-4a38-8685-4c9ec12bb109",
   "metadata": {},
   "source": []
  },
  {
   "cell_type": "code",
   "execution_count": null,
   "id": "44d3ba27-bebb-494f-aba4-efc112f0dd54",
   "metadata": {},
   "outputs": [],
   "source": [
    "print(data.describe())\n",
    "\n"
   ]
  },
  {
   "cell_type": "code",
   "execution_count": null,
   "id": "4b35c934-e08e-40e5-8370-7031dd8cd5c2",
   "metadata": {
    "scrolled": true
   },
   "outputs": [],
   "source": [
    "data.dtypes"
   ]
  },
  {
   "cell_type": "code",
   "execution_count": null,
   "id": "383a5b6e-b73f-4bf4-ac95-4a629bea449c",
   "metadata": {},
   "outputs": [],
   "source": []
  },
  {
   "cell_type": "markdown",
   "id": "4c59345e-90f7-4466-9768-59edd153c33f",
   "metadata": {},
   "source": [
    "---\n",
    "## 3. Exploratory Data Analysis (EDA)\n",
    "Goal: Understand how each variable relates to the **target variable**: 'heart_attack (0=No, 1=Yes)'\\\n",
    "Filter those that are more relevant for further analysis and testing\\\n",
    "For variables with Numeric Features (e.g., age, cholestrol_level, sleep_hours), we will be using:\n",
    "- Violinplot\n",
    "- Histogram\n",
    "\n",
    "For variables with Categoric Features (e.g., gender, region, diet), we will be using:\n",
    "- Countplot\n",
    "- Heatmap"
   ]
  },
  {
   "cell_type": "markdown",
   "id": "0ab66fa4-390b-4b30-baa4-6122ad542566",
   "metadata": {},
   "source": [
    "### Numeric Features"
   ]
  },
  {
   "cell_type": "code",
   "execution_count": null,
   "id": "44cddd5b-0a5e-4abe-8dfc-0ab414ed9479",
   "metadata": {},
   "outputs": [],
   "source": [
    "# Starting with Histograms for Initial Exploration\n",
    "numeric_featuresx = data.select_dtypes(include=['int64', 'float64']).drop(columns='heart_attack').columns\n",
    "# Those with values '0' and '1' only are considered categorical in this case\n",
    "numeric_features = [col for col in numeric_featuresx if set(data[col].unique()) !={0,1}]\n",
    "for col in numeric_features:\n",
    "    plt.figure(figsize=(6,4))\n",
    "    sns.histplot(data=data, x=col, hue='heart_attack', kde=True, multiple=\"stack\", palette=\"muted\")\n",
    "    plt.title(f'Distribution of {col} by Heart Attack Status')\n",
    "    plt.xlabel(col)\n",
    "    plt.ylabel('Frequency')\n",
    "    plt.tight_layout()\n",
    "\n",
    "    plt.show()\n"
   ]
  },
  {
   "cell_type": "markdown",
   "id": "713510e4-c4a5-4b03-a55c-7b2162bd940c",
   "metadata": {},
   "source": [
    "#### Evaluate distribution separation\n",
    "1. Kolmogorov-Smirnov(KS) test\\\n",
    "KS Statistic = how different the two distributions are in shape.\\\n",
    "KS p-value = small p-values indicate a statistically significant difference.\n",
    "2. Separation Score = how far apart the two distributions are (in terms of standard deviation).\n",
    "\n"
   ]
  },
  {
   "cell_type": "code",
   "execution_count": null,
   "id": "79ba6934-5773-4069-ade9-ec959708ad49",
   "metadata": {},
   "outputs": [],
   "source": [
    "from scipy.stats import skew, ks_2samp\n",
    "\n",
    "def evaluate_histogram_features(data, target='heart_attack'):\n",
    "    \n",
    "    results = []\n",
    "\n",
    "    for col in numeric_features:\n",
    "        group0 = data[data[target] == 0][col].dropna()\n",
    "        group1 = data[data[target] == 1][col].dropna()\n",
    "\n",
    "        mean_diff = group1.mean() - group0.mean()\n",
    "        skew_0 = skew(group0)\n",
    "        skew_1 = skew(group1)\n",
    "        ks_stat, ks_p = ks_2samp(group0, group1)\n",
    "\n",
    "        separation_score = abs(mean_diff) / np.sqrt(group0.std()**2 + group1.std()**2)\n",
    "\n",
    "        results.append({\n",
    "            'Feature': col,\n",
    "            'Mean_HeartAttack1': round(group1.mean(), 2),\n",
    "            'Mean_HeartAttack0': round(group0.mean(), 2),\n",
    "            'Mean_Diff': round(mean_diff, 2),\n",
    "            'Skew_HA0': round(skew_0, 2),\n",
    "            'Skew_HA1': round(skew_1, 2),\n",
    "            'Separation_Score': round(separation_score, 2),\n",
    "            'KS_Statistic': round(ks_stat, 3),\n",
    "            'KS_p_value': round(ks_p, 3)\n",
    "        })\n",
    "\n",
    "    result_data = pd.DataFrame(results).sort_values(by='Separation_Score', ascending=False)\n",
    "    return result_data\n"
   ]
  },
  {
   "cell_type": "code",
   "execution_count": null,
   "id": "d561d0fa-fb9e-49a9-b383-aafea55a63b3",
   "metadata": {
    "scrolled": true
   },
   "outputs": [],
   "source": [
    "result_summary = evaluate_histogram_features(data)\n",
    "display(result_summary)\n"
   ]
  },
  {
   "cell_type": "markdown",
   "id": "f010a6be-9377-4894-ad3b-ce9af5d4cd15",
   "metadata": {},
   "source": [
    "## Implications\n",
    "Top Features (by Separation_Score, KS_Statistics and KS_p_vaue) \\\n",
    "These are the **most potentially useful** numeric predictors of heart_attack:\n",
    "- **age**\n",
    "- **cholesterol_level**\n",
    "- **waist_circumference**\n",
    "- **fasting_blood_sugar**\n"
   ]
  },
  {
   "cell_type": "code",
   "execution_count": null,
   "id": "d0bb14af-a1c1-4d19-bec7-0af21687b965",
   "metadata": {},
   "outputs": [],
   "source": [
    "# Violin plot for the most potentially useful numeric predictors\n",
    "useful_numeric = data[['age', 'cholesterol_level', 'waist_circumference', 'fasting_blood_sugar']]\n",
    "\n",
    "for col in useful_numeric:\n",
    "    plt.figure(figsize=(6,6))\n",
    "    sns.violinplot(x='heart_attack', y=col, data=data, palette='Set2', hue= 'heart_attack')\n",
    "    plt.title(f'{col} vs Heart Attack')\n",
    "    plt.xlabel('Heart Attack (0 = No, 1 = Yes)')\n",
    "    plt.ylabel(col)\n",
    "    plt.tight_layout()\n",
    "    plt.show()"
   ]
  },
  {
   "cell_type": "markdown",
   "id": "7a00735e-e420-4ce3-b32c-3447f7993757",
   "metadata": {},
   "source": [
    "age\n",
    "- Higher age(>60), higher heart attack rates\n",
    "\n",
    "cholesterol_level\n",
    "- High cholesterol level (>230), higher heart attack rates\n",
    "\n",
    "waist_circumference\n",
    "- Greater waist_circumference, higher heart attack rates\n",
    "- No heart attack rates with small waist cicrumference\n",
    "\n",
    "fasting_blood_sugar\n",
    "- Especially higher heart attack rates with fasting blood sugar over 150"
   ]
  },
  {
   "cell_type": "code",
   "execution_count": null,
   "id": "a8921cbe-f42e-43fc-80b8-43b2728916dd",
   "metadata": {},
   "outputs": [],
   "source": []
  },
  {
   "cell_type": "markdown",
   "id": "91ea2a65-1fae-488d-9d6b-1d1147008fed",
   "metadata": {},
   "source": [
    "### Categorical Features"
   ]
  },
  {
   "cell_type": "code",
   "execution_count": null,
   "id": "42374cf4-b3af-4e3a-9d1b-fb236c93f6ce",
   "metadata": {},
   "outputs": [],
   "source": [
    "# Select categorical features (object types and binary columns with only '0' and '1')\n",
    "categorical_features = data.select_dtypes(include=['object'])\n",
    "\n",
    "binary_categorical_features = [col for col in data.columns if set(data[col].unique()) == {0, 1} and col != 'heart_attack']\n",
    "\n",
    "# Combine both the object-type and binary columns\n",
    "categorical_features = list(set(categorical_features).union(binary_categorical_features))\n",
    "\n",
    "# Plot countplots for each categorical variable\n",
    "for col in categorical_features:\n",
    "    plt.figure(figsize=(6,4))\n",
    "    sns.countplot(x=col, hue='heart_attack', data=data)\n",
    "    plt.title(f'{col} by Heart Attack Outcome')\n",
    "    plt.xlabel(col)\n",
    "    plt.ylabel('Count')\n",
    "    plt.xticks(rotation=30)\n",
    "    plt.tight_layout()\n",
    "    plt.show()\n"
   ]
  },
  {
   "cell_type": "code",
   "execution_count": null,
   "id": "8eb0d111-0da5-4c46-affb-ed71287fe72e",
   "metadata": {},
   "outputs": [],
   "source": []
  },
  {
   "cell_type": "markdown",
   "id": "4ff931a0-5f05-497d-94bf-39e4d7217edb",
   "metadata": {},
   "source": [
    "### Heatmap with Chi-Square Test\n",
    "“Is the distribution of heart attack status different across the categories of {variables in categorical_features}?”\n",
    "\n",
    "\n",
    "- Darker/redder color = stronger relationship (smaller p-value).\n",
    "\n",
    "- p < 0.05 → the variable is significantly related to heart_attack."
   ]
  },
  {
   "cell_type": "code",
   "execution_count": null,
   "id": "86182b4a-acb2-4925-8eda-16088d332c0d",
   "metadata": {},
   "outputs": [],
   "source": [
    "from scipy.stats import chi2_contingency\n",
    "\n",
    "# Store p-values\n",
    "chi2_results = []\n",
    "\n",
    "for col in categorical_features:\n",
    "    contingency_table = pd.crosstab(data[col], data['heart_attack'])\n",
    "    chi2, p, _, _ = chi2_contingency(contingency_table)\n",
    "    chi2_results.append({'Feature': col, 'Chi2_p_value': round(p, 4)})\n",
    "\n",
    "# Convert to DataFrame\n",
    "chi2_df = pd.DataFrame(chi2_results).set_index('Feature').sort_values('Chi2_p_value')\n",
    "\n",
    "\n",
    "# Create a heatmap\n",
    "plt.figure(figsize=(6, len(categorical_features)*0.5 + 1))\n",
    "sns.heatmap(chi2_df, annot=True, cmap='Reds_r', cbar=False)\n",
    "plt.title('Chi-Square Test p-values for Categorical Features')\n",
    "plt.tight_layout()\n",
    "plt.show()\n"
   ]
  },
  {
   "cell_type": "markdown",
   "id": "b8f57fb2-9061-451e-acca-00e881019540",
   "metadata": {},
   "source": [
    "#### Implications\n",
    "**Significant Variables (p<= 0.05)**\n",
    "- hypertension\n",
    "- diabetes\n",
    "- previous_heart_disease\n",
    "- smoking_status\n",
    "- obesity\n",
    "- alcohol_consumption\n",
    "- region\n",
    "- dietary_habits\n",
    "\n",
    "**Less/none significant Variables (p>0.05)**\n",
    "- medication_usage\r",
    "- air_pollution_exposure\n",
    "- gender \n",
    "- physical_activity\n",
    "- stress_level\n",
    "- participated_in_free_screening\n",
    "- EKG_results\n",
    "- income_level\n",
    "- family_history \r\n"
   ]
  },
  {
   "cell_type": "code",
   "execution_count": null,
   "id": "971283ad-f136-4731-9186-4cca2c85f9b5",
   "metadata": {},
   "outputs": [],
   "source": [
    "# Check if accounted for all variables, there should be (total columns - 1 = 28-1 = 27)\n",
    "print(len(categorical_features))\n",
    "print(len(numeric_features))"
   ]
  },
  {
   "cell_type": "code",
   "execution_count": null,
   "id": "bb543ce0-3b12-4883-8884-30550aec29d8",
   "metadata": {},
   "outputs": [],
   "source": []
  },
  {
   "cell_type": "markdown",
   "id": "23686c16-11d4-433e-9b3d-ad69bfc19243",
   "metadata": {},
   "source": [
    "---\n",
    "## 4. Machine Learning Modeling\n",
    "\n",
    "Predictor Variable : variables classified as useful above -- both numeric & categorical \\\n",
    "Response (target) Feature : `heart_attack`    \n",
    "\n",
    "#### Decision Tree\n",
    "- Easy to interpret\n",
    "- Fast and simple\n",
    "- Prone to overfitting\n",
    "- May perform worse than ensemble methods\n",
    "\n",
    "#### Ensemble model: CatBoost\n",
    "- Reduce overfitting(boosting=focus on what previous tree got wrong)\n",
    "- Improve generalization\n",
    "- Still tree-based under the hood\n"
   ]
  },
  {
   "cell_type": "raw",
   "id": "65668940-e7d2-47d0-a90d-685db4d7143b",
   "metadata": {},
   "source": []
  },
  {
   "cell_type": "markdown",
   "id": "7083522e-d497-4d09-ace5-dce1f924a359",
   "metadata": {},
   "source": [
    "### Using Decision Tree & Confusion Matrix"
   ]
  },
  {
   "cell_type": "code",
   "execution_count": null,
   "id": "b708f14c-7175-459c-9dd7-7a305ad07348",
   "metadata": {},
   "outputs": [],
   "source": [
    "from sklearn.tree import DecisionTreeClassifier, plot_tree\n",
    "from sklearn.model_selection import train_test_split\n",
    "from sklearn.metrics import confusion_matrix, accuracy_score, precision_score, recall_score, f1_score\n",
    "\n",
    "\n",
    "predictors = ['hypertension','diabetes','previous_heart_disease','smoking_status',\n",
    "              'obesity','alcohol_consumption','region','dietary_habits',\n",
    "              'age', 'cholesterol_level', 'waist_circumference', 'fasting_blood_sugar']\n",
    "y = data['heart_attack']\n",
    "\n",
    "results = []  # For storing the metrics of each predictor\n",
    "\n",
    "for col in predictors:\n",
    "    print(f\"=== Using predictor: {col} ===\")\n",
    "    \n",
    "    # Handle categorical features with one-hot encoding (if needed)\n",
    "    if data[col].dtype == 'object' or data[col].dtype.name == 'category':\n",
    "        X = pd.get_dummies(data[[col]], drop_first=True)\n",
    "    else:\n",
    "        X = data[[col]]  # numeric column stays as is\n",
    "\n",
    "    # Train-test split\n",
    "    X_train, X_test, y_train, y_test = train_test_split(X, y, test_size=0.2, random_state=42)\n",
    "\n",
    "    # Train a decision tree\n",
    "    dectree = DecisionTreeClassifier(max_depth=3, random_state=42)\n",
    "    dectree.fit(X_train, y_train)\n",
    "\n",
    "    # Get probabilities\n",
    "    probabilities = dectree.predict_proba(X_test)\n",
    "    # Plot the trained tree\n",
    "    plt.figure(figsize=(10, 6))\n",
    "    plot_tree(dectree, filled=True, feature_names=X.columns, class_names=[\"0\", \"1\"])\n",
    "    plt.title(f\"Decision Tree using '{col}'\")\n",
    "    plt.show()\n",
    "\n",
    "    # Confusion Matrix & Accuracy\n",
    "    dectree_test_pred = dectree.predict(X_test)\n",
    "    \n",
    "    # Calculate confusion matrix and extract TP, FP, TN, FN\n",
    "    cm = confusion_matrix(y_test, dectree_test_pred)\n",
    "    TN, FP, FN, TP = cm.ravel()\n",
    "\n",
    "    # Print TP, FP, TN, FN\n",
    "    print(f\"True Positives (TP): {TP}\")\n",
    "    print(f\"False Positives (FP): {FP}\")\n",
    "    print(f\"True Negatives (TN): {TN}\")\n",
    "    print(f\"False Negatives (FN): {FN}\")\n",
    "\n",
    "    # Accuracy, Precision, Recall, F1 Score\n",
    "    accuracy = accuracy_score(y_test, dectree_test_pred)\n",
    "    precision = precision_score(y_test, dectree_test_pred, zero_division=0)\n",
    "    recall = recall_score(y_test, dectree_test_pred)\n",
    "    f1 = f1_score(y_test, dectree_test_pred)\n",
    "\n",
    "    print(f\"Accuracy: {accuracy:.4f}\")\n",
    "    print(f\"Precision: {precision:.4f}\")\n",
    "    print(f\"Recall: {recall:.4f}\")\n",
    "    print(f\"F1 Score: {f1:.4f}\\n\")\n",
    "\n",
    "    # Store the results\n",
    "    results.append((col, TP, FP, TN, FN, accuracy, precision, recall, f1))\n",
    "\n",
    "    # Plot the confusion matrix\n",
    "    sns.heatmap(cm, annot=True, fmt=\".0f\", annot_kws={\"size\": 20}, xticklabels=[\"No Heart Attack\", \"Heart Attack\"], yticklabels=[\"No Heart Attack\", \"Heart Attack\"])\n",
    "    plt.title(f\"Confusion Matrix for {col}\")\n",
    "    plt.show()\n"
   ]
  },
  {
   "cell_type": "code",
   "execution_count": null,
   "id": "1d85fa4d-758a-4d15-8bd9-cae0f2d097fe",
   "metadata": {},
   "outputs": [],
   "source": [
    "pd.set_option('display.float_format', '{:,.4f}'.format)  # Format numbers to 4 decimal places\n",
    "pd.set_option('display.max_columns', None) \n",
    "\n",
    "# Create a summary table\n",
    "results_df = pd.DataFrame(results, columns=[\"Predictor\", \"TP\", \"FP\", \"TN\", \"FN\", \"Accuracy\", \"Precision\", \"Recall\", \"F1 Score\"])\n",
    "\n",
    "# Display the summary table in a clean format\n",
    "display(results_df)\n"
   ]
  },
  {
   "cell_type": "code",
   "execution_count": null,
   "id": "512dc1ee-4218-471f-8d0d-6321126e18fe",
   "metadata": {},
   "outputs": [],
   "source": []
  },
  {
   "cell_type": "markdown",
   "id": "4b9f11f7-9f64-49fc-9830-276037a7bb42",
   "metadata": {},
   "source": [
    "### Using CatBoost Classifier"
   ]
  },
  {
   "cell_type": "code",
   "execution_count": null,
   "id": "3ed04a46-8d11-47af-ae8d-cddce1b78879",
   "metadata": {},
   "outputs": [],
   "source": [
    "!pip install catboost\n",
    "\n",
    "# Automatically detects and handles categorical columns; no need to encode manually\n",
    "\n"
   ]
  },
  {
   "cell_type": "code",
   "execution_count": null,
   "id": "85987676-7a8a-4f61-9a0e-f6179702fce7",
   "metadata": {},
   "outputs": [],
   "source": [
    "from catboost import CatBoostClassifier\n",
    "from sklearn.model_selection import train_test_split\n",
    "from sklearn.metrics import classification_report, confusion_matrix, roc_auc_score\n",
    "import matplotlib.pyplot as plt\n",
    "import pandas as pd\n",
    "\n",
    "# Assuming 'data' is your dataframe and 'heart_attack' is the target column\n",
    "X = data[['hypertension', 'diabetes', 'previous_heart_disease', 'smoking_status',\n",
    "          'obesity', 'alcohol_consumption', 'region', 'dietary_habits', \n",
    "          'age', 'cholesterol_level', 'waist_circumference', 'fasting_blood_sugar']]\n",
    "y = data['heart_attack']\n",
    "\n",
    "# Specify which columns are categorical (CatBoost will automatically handle encoding)\n",
    "cat_features = ['hypertension','diabetes','previous_heart_disease','smoking_status',\n",
    "              'obesity','alcohol_consumption','region','dietary_habits'] \n",
    "\n",
    "# Split into training and testing sets\n",
    "X_train, X_test, y_train, y_test = train_test_split(X, y, test_size=0.2, random_state=42)\n",
    "\n",
    "# Initialize and train CatBoostClassifier\n",
    "model = CatBoostClassifier(iterations=500, \n",
    "                           learning_rate=0.05, \n",
    "                           depth=6, \n",
    "                           eval_metric='AUC', \n",
    "                           random_seed=42, \n",
    "                           cat_features=cat_features, \n",
    "                           verbose=100)\n",
    "\n",
    "# Fit the model\n",
    "model.fit(X_train, y_train, eval_set=(X_test, y_test), use_best_model=True)\n",
    "\n",
    "# Make predictions and evaluate\n",
    "y_pred = model.predict(X_test)\n",
    "y_probs = model.predict_proba(X_test)[:, 1]\n",
    "\n",
    "# Get Feature Importance\n",
    "feature_importance = model.get_feature_importance()\n",
    "\n",
    "# Create a DataFrame for feature importances\n",
    "importance_df = pd.DataFrame({\n",
    "    'Feature': X.columns,\n",
    "    'Importance': feature_importance\n",
    "}).sort_values(by='Importance', ascending=False)\n"
   ]
  },
  {
   "cell_type": "code",
   "execution_count": null,
   "id": "0eda3d4f-3d00-4da0-ae16-e06f79c770f0",
   "metadata": {},
   "outputs": [],
   "source": []
  },
  {
   "cell_type": "code",
   "execution_count": null,
   "id": "9b3a03b6-a6d9-4bab-8ae9-fef718894c3f",
   "metadata": {},
   "outputs": [],
   "source": []
  },
  {
   "cell_type": "markdown",
   "id": "fac7383f-1a12-4496-a80e-075f12f5e2d8",
   "metadata": {},
   "source": [
    "---\n",
    "## Data-driven insights & Recommendation"
   ]
  },
  {
   "cell_type": "markdown",
   "id": "76a55a31-7bd3-4ec1-b279-395812c40b17",
   "metadata": {},
   "source": [
    "### Results from decision tree"
   ]
  },
  {
   "cell_type": "markdown",
   "id": "7b17060b-e1a0-4256-ac95-6264eef6828b",
   "metadata": {},
   "source": [
    "### 🫀 Heart Attack Probability Table by Variable\r\n",
    "\r\n",
    "| **Variable**             | **Condition**                                     | **Heart Attack Rate** |\r\n",
    "|--------------------------|---------------------------------------------------|------------------------|\r\n",
    "| **Hypertension**         | Has hypertension                                 | 22720 / 37780 = **0.6015** |\r\n",
    "| **Diabetes**             | Has diabetes                                     | 14933 / 25272 = **0.5907** |\r\n",
    "| **Previous Heart Disease** | Has previous heart disease                    | 17024 / 25374 = **0.6708** |\r\n",
    "| **Smoking Status**       | Never smoked                                     | 22346 / 63364 = **0.3525** |\r\n",
    "|                          | Past smoker                                      | 11146 / 31651 = **0.3522** |\r\n",
    "|                          | Current smoker                                   | 17244 / 31669 = **0.5444** |\r\n",
    "| **Obesity**              | Is obese                                         | 17268 / 31709 = **0.5445** |\r\n",
    "| **Alcohol Consumption**  | No alcohol consumption                           | 30252 / 76006 = **0.3979** |\r\n",
    "|                          | Moderate consumption                             | 5142 / 12623 = **0.4073** |\r\n",
    "|                          | High consumption                                 | 15342 / 38055 = **0.4031** |\r\n",
    "| **Region**               | Urban area                                       | 32850 / 82443 = **0.3984** |\r\n",
    "|                          | Rural area                                       | 17886 / 44241 = **0.4043** |\r\n",
    "| **Dietary Habits**       | Unhealthy diet                                   | 30278 / 76002 = **0.3982** |\r\n",
    "| **Age**                  | Age ≤ 30.5                                       | 1039 / 2565 = **0.4051** |\r\n",
    "|                          | Age > 63.5                                       | 1565 / 3095 = **0.5050** |\r\n",
    "|                          | Age > 69.5                                       | 6755 / 13394 = **0.5042** |\r\n",
    "| **Cholesterol Level**    | Cholesterol ≤ 106.5                              | 446 / 1250 = **0.3568** |\r\n",
    "|                          | Cholesterol > 325.5                              | 35 / 50 = **0.7000** |\r\n",
    "| **Waist Circumference**  | Waist ≤ 74.5                                     | 5707 / 15552 = **0.3669** |\r\n",
    "|                          | Waist > 113.5                                    | 3011 / 6673 = **0.4514** |\r\n",
    "|                          | Waist > 142.5                                    | 132 / 204 = **0.6471** |\r\n",
    "| **Fasting Blood Sugar**  | Sugar ≤ 71.5                                     | 4995 / 12995 = **0.3843** |\r\n",
    "|                          | Sugar > 151.5                                    | 4452 / 7574 = **0.5878** |\r\n",
    "|                          | Sugar > 195.5                                    | 137 / 245 = **0.5592** |\r\n"
   ]
  },
  {
   "cell_type": "markdown",
   "id": "2bfb996f-d421-4f3b-b4d7-219a8e221372",
   "metadata": {},
   "source": [
    "Given the probability of getting heart attack by random sampling is 63501/158355 = 0.4009 \\\n",
    "Useful variable for predicting heart attack will be those that have heart attack rate above 0.4\n",
    "### 🔎 Variables with Heart Attack Rate > 0.4009\r\n",
    "\r\n",
    "| **Variable**             | **Condition**                                     | **Heart Attack Rate** |\r\n",
    "|--------------------------|---------------------------------------------------|------------------------|\r\n",
    "| **Cholesterol Level**    | Cholesterol > 325.5                              | **0.7000**             |\r\n",
    "| **Previous Heart Disease** | Has previous heart disease                     | **0.6707**             |\r\n",
    "| **Waist Circumference**  | Waist > 142.5                                    | **0.6471**             |\r\n",
    "| **Hypertension**         | Has hypertension                                 | **0.6013**             |\r\n",
    "| **Fasting Blood Sugar**  | Sugar > 151.5                                    | **0.5878**             |\r\n",
    "| **Diabetes**             | Has diabetes                                     | **0.5909**             |\r\n",
    "| **Obesity**              | Is obese                                         | **0.5445**             |\r\n",
    "| **Smoking Status**       | Current smoker                                   | **0.5444**             |\r\n",
    "| **Fasting Blood Sugar**  | Sugar > 195.5                                    | **0.5592**             |\r\n",
    "| **Age**                  | Age > 63.5                                       | **0.5050**             |\r\n",
    "| **Age**                  | Age > 69.5                                       | **0.5042**             |\r\n",
    "| **Waist Circumference**  | Waist > 113.5                                    | **0.4514**             |\r\n",
    "| **Age**                  | Age ≤ 30.5                                       | **0.4051**             |\r\n",
    "| **Region**               | Rural area                                       | **0.4043**             |\r\n"
   ]
  },
  {
   "cell_type": "code",
   "execution_count": null,
   "id": "0c4e5883-5e01-44f0-81e3-dcb6f108d1ac",
   "metadata": {},
   "outputs": [],
   "source": []
  },
  {
   "cell_type": "code",
   "execution_count": null,
   "id": "5137e503-79a4-4e31-aa5b-67894d52ade1",
   "metadata": {},
   "outputs": [],
   "source": [
    "# Results from confusion Matrix on Reliability of the above model"
   ]
  },
  {
   "cell_type": "code",
   "execution_count": null,
   "id": "b45a257b-5009-427a-96e5-f443f0bf3939",
   "metadata": {},
   "outputs": [],
   "source": [
    "pd.set_option('display.float_format', '{:,.4f}'.format)  # Format numbers to 4 decimal places\n",
    "pd.set_option('display.max_columns', None) \n",
    "\n",
    "# Create a summary table\n",
    "results_df = pd.DataFrame(results, columns=[\"Predictor\", \"TP\", \"FP\", \"TN\", \"FN\", \"Accuracy\", \"Precision\", \"Recall\", \"F1 Score\"])\n",
    "\n",
    "# Display the summary table in a clean format\n",
    "display(results_df)"
   ]
  },
  {
   "cell_type": "markdown",
   "id": "889772f3-0791-4a4c-b179-ea6d448f675d",
   "metadata": {},
   "source": [
    "Generally decent accuracy (>0.5)"
   ]
  },
  {
   "cell_type": "code",
   "execution_count": null,
   "id": "6624767e-9533-44d9-a055-33f434d4425a",
   "metadata": {},
   "outputs": [],
   "source": []
  },
  {
   "cell_type": "markdown",
   "id": "acfacd3b-2f91-492f-a80a-2078d4540d6e",
   "metadata": {},
   "source": [
    "#### Top features from CatBoost Classifier\n"
   ]
  },
  {
   "cell_type": "code",
   "execution_count": null,
   "id": "7c04ff79-3525-4061-b237-0ef4777306f0",
   "metadata": {},
   "outputs": [],
   "source": [
    "plt.figure(figsize=(10, 6))\n",
    "plt.barh(importance_df['Feature'][:11][::-1], importance_df['Importance'][:11][::-1], color='skyblue')\n",
    "plt.xlabel(\"Importance Score\")\n",
    "plt.title(\"Top 10 Important Features for Predicting Heart Attack\")\n",
    "plt.tight_layout()\n",
    "plt.show()\n"
   ]
  },
  {
   "cell_type": "markdown",
   "id": "67bd23fb-03ed-4339-bf26-9fbb4a74ca26",
   "metadata": {},
   "source": [
    "Reliability of CatBoost model"
   ]
  },
  {
   "cell_type": "code",
   "execution_count": null,
   "id": "8c241c36-8fbe-40b7-a68c-16a7a55f5387",
   "metadata": {},
   "outputs": [],
   "source": [
    "# Print classification results\n",
    "print(\"Classification Report:\")\n",
    "print(classification_report(y_test, y_pred))\n",
    "print(\"Confusion Matrix:\")\n",
    "print(confusion_matrix(y_test, y_pred))\n",
    "print(\"ROC AUC Score:\", roc_auc_score(y_test, y_probs))"
   ]
  },
  {
   "cell_type": "markdown",
   "id": "4fd03e78-f019-43d6-997a-766dd6ddbacb",
   "metadata": {},
   "source": [
    "**AUC = 0.818: Decent but not perfect** \n",
    "\r\n",
    "\n"
   ]
  },
  {
   "cell_type": "code",
   "execution_count": null,
   "id": "2e5ce3b5-e3bb-4798-bb8e-1f96fdee9708",
   "metadata": {},
   "outputs": [],
   "source": []
  },
  {
   "cell_type": "markdown",
   "id": "f2b50555-df0b-4b22-8d17-d99826e78420",
   "metadata": {},
   "source": [
    "### Implications\n",
    "Both models corroborate each other, concluding that the **top 8 important** features of predicting heart attacks are\n",
    "- **previous_heart_disease**\n",
    "- **hypertension**\n",
    "- **diabetes**\n",
    "- **smoking_status**\n",
    "- **obesity**\n",
    "- **age**\n",
    "- **cholesterol_level**\n",
    "- **fasting_blood_sugar**\n",
    "\n",
    "While both models highlight similar variables, the Decision Tree offers greater interpretability. It not only identifies which features are important, but also illustrates how they interact with one another through clear, rule-based splits. "
   ]
  },
  {
   "cell_type": "code",
   "execution_count": null,
   "id": "e784818b-ee34-4ebf-9817-49f40f349ec3",
   "metadata": {},
   "outputs": [],
   "source": []
  },
  {
   "cell_type": "markdown",
   "id": "cb3cf199-3c70-46ae-a31e-c85916549bc1",
   "metadata": {},
   "source": [
    "### Recommendation\n",
    "\n",
    "Based on the analysis and the high heart attack rate (> 0.55), patients should be particularly vigilant about the following conditions, as they significantly increase the risk of a heart attack:\n",
    "\n",
    "- Cholesterol level > 325.5\n",
    "- Previous heart disease\n",
    "- Waist circumference > 142.5\n",
    "- Hypertension\n",
    "- Fasting blood sugar > 151.5\n",
    "- Diabetes\n",
    "\n",
    "Patients with any of these conditions should take proactive steps toward heart health management, including regular monitoring, lifestyle changes, and consultation with healthcare providers.\n",
    "\n",
    "For individuals without these conditions, monitoring the top 8 factors can serve as a guideline to prevent heart attacks by taking care of their health.\\\n",
    "Ageing individuals should do more health-checkups to ensure a healthy body.\n",
    "Individuals with hypertension, diabetes should do regular checks on their blood pressure and blood sugar and follow treatment plan diligently. \\\n",
    "Smokers should quit smoking as it could reduce 20% of chance of heart attacks!\\\n",
    "To lower fasting blood sugar, individuals should exercise regularly, manage carbohydrate and fat intake, get plenty of sleep, limit sugar, sodium, fat, and processed foods, increase fiber intake and consume healthy fats and probiotics.tics."
   ]
  },
  {
   "cell_type": "raw",
   "id": "fc028a19-2133-4a39-aafe-d9b622e327cb",
   "metadata": {},
   "source": []
  },
  {
   "cell_type": "markdown",
   "id": "9cda0764-65c7-4b9f-8725-5704d93a69c4",
   "metadata": {},
   "source": [
    "---\n",
    "## Learning something New\n",
    "\n",
    "### 1. Kolmogorov-Smirnov(KS) test\n",
    "- KS Statistic = how different the two distributions are in shape.\n",
    "- KS p-value = small p-values indicate a statistically significant difference.\n",
    "### 2. Separation Score\n",
    "- Measures how well a feature can distinguish between classes\\\n",
    "\n",
    "Together, KS can tell you if there’s a meaningful difference in distributions, and Separation Score shows how useful that feature is for classification. Both help in selecting the most discriminative features. May reduce human error.\n",
    "\n",
    "### 3. CatBoost\n",
    "- Handles categorical features natively: It automatically processes categorical variables without needing to encode them manually.\n",
    "- More efficient: CatBoost uses a technique called ordered boosting, which reduces overfitting and speeds up training.\n",
    "- Robust to overfitting: With its built-in regularization techniques, CatBoost tends to perform well on small to medium-sized datasets.\n",
    "- Better accuracy: It generally provides higher accuracy than traditional gradient boosting algorithms (like XGBoost) due to its specialized handling of categorical features.\n",
    "\n",
    "But decision tree is still useful as it is robust to outliers: Trees can be relatively insensitive to outliers because they make decisions based on splits rather than distances between data points.\n",
    "\n",
    "\n",
    "\n",
    "\n",
    "\n",
    "\n",
    "\n",
    "\n",
    "\n"
   ]
  },
  {
   "cell_type": "code",
   "execution_count": null,
   "id": "a091501d-5d1a-468d-b00d-a462c853021e",
   "metadata": {},
   "outputs": [],
   "source": []
  }
 ],
 "metadata": {
  "kernelspec": {
   "display_name": "Python 3 (ipykernel)",
   "language": "python",
   "name": "python3"
  },
  "language_info": {
   "codemirror_mode": {
    "name": "ipython",
    "version": 3
   },
   "file_extension": ".py",
   "mimetype": "text/x-python",
   "name": "python",
   "nbconvert_exporter": "python",
   "pygments_lexer": "ipython3",
   "version": "3.12.5"
  }
 },
 "nbformat": 4,
 "nbformat_minor": 5
}
